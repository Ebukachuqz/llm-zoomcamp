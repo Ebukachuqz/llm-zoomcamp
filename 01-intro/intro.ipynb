{
 "cells": [
  {
   "cell_type": "code",
   "execution_count": 7,
   "id": "f7c008e4-a958-46bf-bcab-4af696ba80ad",
   "metadata": {},
   "outputs": [],
   "source": [
    "import os"
   ]
  },
  {
   "cell_type": "code",
   "execution_count": 4,
   "id": "ddc978ff-9782-4d16-af25-dd47bf9f664f",
   "metadata": {},
   "outputs": [],
   "source": [
    "from mistralai.client import MistralClient"
   ]
  },
  {
   "cell_type": "code",
   "execution_count": 5,
   "id": "c123e616-1337-4662-832c-b138e88c17f3",
   "metadata": {},
   "outputs": [],
   "source": [
    "from mistralai.models.chat_completion import ChatMessage"
   ]
  },
  {
   "cell_type": "code",
   "execution_count": 8,
   "id": "60112076-e55f-4933-bdf7-d35bc92b8691",
   "metadata": {
    "scrolled": true
   },
   "outputs": [],
   "source": [
    "api_key = os.environ[\"MISTRAL_API_KEY\"]"
   ]
  },
  {
   "cell_type": "code",
   "execution_count": 9,
   "id": "038b08f3-7bcf-4fde-844b-4f11eaf3b06c",
   "metadata": {},
   "outputs": [],
   "source": [
    "client = MistralClient(api_key=api_key)"
   ]
  },
  {
   "cell_type": "code",
   "execution_count": 12,
   "id": "c6ae8658-aff9-4646-bf33-f77f9eb6556a",
   "metadata": {},
   "outputs": [],
   "source": [
    "model = \"mistral-large-latest\"\n",
    "response = client.chat(\n",
    "    model=model,\n",
    "    messages=[ChatMessage(role=\"user\", content=\"is it too late to join the course?\")]\n",
    ")"
   ]
  },
  {
   "cell_type": "code",
   "execution_count": 13,
   "id": "7e0b8fbc-60a3-4a34-86fd-19081b6c4ff8",
   "metadata": {},
   "outputs": [
    {
     "data": {
      "text/plain": [
       "'It depends on the specific course and its enrollment deadlines. I would recommend reaching out to the course provider or institution for the most accurate information. They can give you details on whether late enrollment is allowed and what the process would be.'"
      ]
     },
     "execution_count": 13,
     "metadata": {},
     "output_type": "execute_result"
    }
   ],
   "source": [
    "response.choices[0].message.content"
   ]
  },
  {
   "cell_type": "code",
   "execution_count": null,
   "id": "2d70ae76-8fdb-45bb-9efe-53c9ef4ffcfa",
   "metadata": {},
   "outputs": [],
   "source": []
  }
 ],
 "metadata": {
  "kernelspec": {
   "display_name": "Python 3 (ipykernel)",
   "language": "python",
   "name": "python3"
  },
  "language_info": {
   "codemirror_mode": {
    "name": "ipython",
    "version": 3
   },
   "file_extension": ".py",
   "mimetype": "text/x-python",
   "name": "python",
   "nbconvert_exporter": "python",
   "pygments_lexer": "ipython3",
   "version": "3.10.13"
  }
 },
 "nbformat": 4,
 "nbformat_minor": 5
}
