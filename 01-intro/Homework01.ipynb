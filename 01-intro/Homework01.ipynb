{
 "cells": [
  {
   "cell_type": "markdown",
   "id": "3ae5789b-ef14-49a8-bf9f-03bbe0a1260c",
   "metadata": {},
   "source": [
    "## Q1. Running Elastic"
   ]
  },
  {
   "cell_type": "code",
   "execution_count": 9,
   "id": "2952e2e6-e4a8-4a0f-b206-8e05aac2a067",
   "metadata": {},
   "outputs": [
    {
     "name": "stdout",
     "output_type": "stream",
     "text": [
      "{\n",
      "  \"name\" : \"c40ee03c6697\",\n",
      "  \"cluster_name\" : \"docker-cluster\",\n",
      "  \"cluster_uuid\" : \"wJbLyffZR565mSBH36S4NA\",\n",
      "  \"version\" : {\n",
      "    \"number\" : \"8.4.3\",\n",
      "    \"build_flavor\" : \"default\",\n",
      "    \"build_type\" : \"docker\",\n",
      "    \"build_hash\" : \"42f05b9372a9a4a470db3b52817899b99a76ee73\",\n",
      "    \"build_date\" : \"2022-10-04T07:17:24.662462378Z\",\n",
      "    \"build_snapshot\" : false,\n",
      "    \"lucene_version\" : \"9.3.0\",\n",
      "    \"minimum_wire_compatibility_version\" : \"7.17.0\",\n",
      "    \"minimum_index_compatibility_version\" : \"7.0.0\"\n",
      "  },\n",
      "  \"tagline\" : \"You Know, for Search\"\n",
      "}\n"
     ]
    }
   ],
   "source": [
    "!curl 'localhost:9200'"
   ]
  },
  {
   "cell_type": "markdown",
   "id": "dbebf953-b076-4801-a657-f46de7656336",
   "metadata": {},
   "source": [
    "#### Imports"
   ]
  },
  {
   "cell_type": "code",
   "execution_count": 164,
   "id": "e081646f-a179-4862-a698-e99644c1b99d",
   "metadata": {},
   "outputs": [],
   "source": [
    "import os\n",
    "import requests \n",
    "from tqdm import tqdm\n",
    "from elasticsearch import Elasticsearch"
   ]
  },
  {
   "cell_type": "markdown",
   "id": "d92e2410-386e-4a6a-8407-f263cf31c829",
   "metadata": {},
   "source": [
    "## Q2. Getting the data"
   ]
  },
  {
   "cell_type": "code",
   "execution_count": 25,
   "id": "7b5c4ea4-9b70-459d-8a0d-ec504560fd17",
   "metadata": {},
   "outputs": [],
   "source": [
    "docs_url = 'https://github.com/DataTalksClub/llm-zoomcamp/blob/main/01-intro/documents.json?raw=1'\n",
    "docs_response = requests.get(docs_url)\n",
    "documents_raw = docs_response.json()\n",
    "\n",
    "documents = []\n",
    "\n",
    "for course in documents_raw:\n",
    "    course_name = course['course']\n",
    "\n",
    "    for doc in course['documents']:\n",
    "        doc['course'] = course_name\n",
    "        documents.append(doc)"
   ]
  },
  {
   "cell_type": "code",
   "execution_count": 27,
   "id": "457a41f5-70b5-41b9-8be0-7df177fba3f9",
   "metadata": {},
   "outputs": [],
   "source": [
    "es_client = Elasticsearch('http://localhost:9200')"
   ]
  },
  {
   "cell_type": "code",
   "execution_count": 28,
   "id": "425d0335-1437-4486-a2e1-9467f9f8a526",
   "metadata": {},
   "outputs": [],
   "source": [
    "index_settings = {\n",
    "    \"settings\": {\n",
    "        \"number_of_shards\": 1,\n",
    "        \"number_of_replicas\": 0\n",
    "    },\n",
    "    \"mappings\": {\n",
    "        \"properties\": {\n",
    "            \"text\": {\"type\": \"text\"},\n",
    "            \"section\": {\"type\": \"text\"},\n",
    "            \"question\": {\"type\": \"text\"},\n",
    "            \"course\": {\"type\": \"keyword\"} \n",
    "        }\n",
    "    }\n",
    "}"
   ]
  },
  {
   "cell_type": "code",
   "execution_count": 31,
   "id": "1035c3b6-8d17-461a-9e09-d163628b0c2f",
   "metadata": {},
   "outputs": [],
   "source": [
    "index_name = \"course-questions\""
   ]
  },
  {
   "cell_type": "code",
   "execution_count": 36,
   "id": "6e1cc202-9959-4b4d-940c-5c1c2222fd21",
   "metadata": {},
   "outputs": [
    {
     "data": {
      "text/plain": [
       "ObjectApiResponse({'acknowledged': True, 'shards_acknowledged': True, 'index': 'course-questions'})"
      ]
     },
     "execution_count": 36,
     "metadata": {},
     "output_type": "execute_result"
    }
   ],
   "source": [
    "es_client.indices.create(index=index_name, body=index_settings)"
   ]
  },
  {
   "cell_type": "code",
   "execution_count": 37,
   "id": "ded0b643-c89f-4dfc-a039-62efed1a17ad",
   "metadata": {},
   "outputs": [],
   "source": [
    "def index_documents(documents):\n",
    "    for doc in tqdm(documents):\n",
    "        es_client.index(index=index_name, document=doc)"
   ]
  },
  {
   "cell_type": "code",
   "execution_count": 38,
   "id": "a1b338de-f714-4e6d-a6aa-2b2e8c3dab5b",
   "metadata": {},
   "outputs": [
    {
     "name": "stderr",
     "output_type": "stream",
     "text": [
      "100%|███████████████████████████████████████████| 948/948 [00:22<00:00, 42.93it/s]\n"
     ]
    }
   ],
   "source": [
    "index_documents(documents)"
   ]
  },
  {
   "cell_type": "markdown",
   "id": "51724b62-5ae6-42f2-9797-93af2753aa0f",
   "metadata": {},
   "source": [
    "## Q3. Searching"
   ]
  },
  {
   "cell_type": "code",
   "execution_count": 70,
   "id": "30a01be8-0e61-4e79-9d3e-589716137f17",
   "metadata": {},
   "outputs": [],
   "source": [
    "def elastic_search(query, size=3, filters=[]):\n",
    "    search_query = {\n",
    "        \"size\": size,\n",
    "        \"query\": {\n",
    "            \"bool\": {\n",
    "                \"must\": {\n",
    "                    \"multi_match\": {\n",
    "                        \"query\": query,\n",
    "                        \"fields\": [\"question^4\", \"text\"],\n",
    "                        \"type\": \"best_fields\"\n",
    "                    }\n",
    "                },\n",
    "                \"filter\": [{\"term\": word} for word in filters]\n",
    "            }\n",
    "        }\n",
    "    }\n",
    "\n",
    "    search_results = es_client.search(index=index_name, body=search_query)\n",
    "    return search_results['hits']['hits']"
   ]
  },
  {
   "cell_type": "code",
   "execution_count": 147,
   "id": "ebb71a01-e993-48bc-bfe0-7683fd2627bf",
   "metadata": {},
   "outputs": [],
   "source": [
    "query = \"How do I execute a command in a running docker container?\""
   ]
  },
  {
   "cell_type": "code",
   "execution_count": 148,
   "id": "00deda29-e18e-4008-849f-92474fa9463a",
   "metadata": {},
   "outputs": [
    {
     "name": "stdout",
     "output_type": "stream",
     "text": [
      "The score for the top ranking result is 84.05\n"
     ]
    }
   ],
   "source": [
    "top_score = elastic_search(query)[0]['_score']\n",
    "print(f\"The score for the top ranking result is {round(top_score, 2)}\")"
   ]
  },
  {
   "cell_type": "markdown",
   "id": "0f607280-7109-48bf-8727-e84317e9159e",
   "metadata": {},
   "source": [
    "## Q4. Filtering\n",
    "Limit the questions to `machine-learning-zoomcamp`.\n",
    "\n",
    "Return 3 results. What's the 3rd question returned by the search engine?"
   ]
  },
  {
   "cell_type": "code",
   "execution_count": 149,
   "id": "4697d022-753c-4351-8f11-58c4944f2c5c",
   "metadata": {},
   "outputs": [],
   "source": [
    "new_es_query = elastic_search(query, 3, [{\"course\": \"machine-learning-zoomcamp\"}])"
   ]
  },
  {
   "cell_type": "code",
   "execution_count": 150,
   "id": "80bf4189-6a64-43e4-bfca-6acee40ba8b3",
   "metadata": {},
   "outputs": [
    {
     "name": "stdout",
     "output_type": "stream",
     "text": [
      "How do I copy files from a different folder into docker container’s working directory?\n"
     ]
    }
   ],
   "source": [
    "print(new_es_query[2][\"_source\"][\"question\"])"
   ]
  },
  {
   "cell_type": "markdown",
   "id": "e944e582-b316-43bb-b662-04be354d1535",
   "metadata": {},
   "source": [
    "## Q5. Building a prompt"
   ]
  },
  {
   "cell_type": "code",
   "execution_count": 151,
   "id": "b2e3110f-5cbd-4bea-8678-0daad4d61c71",
   "metadata": {},
   "outputs": [],
   "source": [
    "context_template = \"\"\"\n",
    "Q: {question}\n",
    "A: {text}\n",
    "\"\"\".strip()"
   ]
  },
  {
   "cell_type": "code",
   "execution_count": 152,
   "id": "991ccaa1-c429-418a-a92c-b6ae8a7ce2b0",
   "metadata": {},
   "outputs": [],
   "source": [
    "context = \"\""
   ]
  },
  {
   "cell_type": "code",
   "execution_count": 153,
   "id": "f5da2a25-4c08-4b71-a86c-4bd83fad9f6f",
   "metadata": {},
   "outputs": [],
   "source": [
    "for doc in new_es_query:\n",
    "  context += context_template.format(question=doc[\"_source\"][\"question\"], text=doc[\"_source\"][\"text\"]) + \"\\n\\n\""
   ]
  },
  {
   "cell_type": "code",
   "execution_count": 154,
   "id": "972777cf-f1e3-4846-b7a2-ea10640cc686",
   "metadata": {},
   "outputs": [
    {
     "data": {
      "text/plain": [
       "'Q: How do I debug a docker container?\\nA: Launch the container image in interactive mode and overriding the entrypoint, so that it starts a bash command.\\ndocker run -it --entrypoint bash <image>\\nIf the container is already running, execute a command in the specific container:\\ndocker ps (find the container-id)\\ndocker exec -it <container-id> bash\\n(Marcos MJD)\\n\\nQ: How do I copy files from my local machine to docker container?\\nA: You can copy files from your local machine into a Docker container using the docker cp command. Here\\'s how to do it:\\nTo copy a file or directory from your local machine into a running Docker container, you can use the `docker cp command`. The basic syntax is as follows:\\ndocker cp /path/to/local/file_or_directory container_id:/path/in/container\\nHrithik Kumar Advani\\n\\nQ: How do I copy files from a different folder into docker container’s working directory?\\nA: You can copy files from your local machine into a Docker container using the docker cp command. Here\\'s how to do it:\\nIn the Dockerfile, you can provide the folder containing the files that you want to copy over. The basic syntax is as follows:\\nCOPY [\"src/predict.py\", \"models/xgb_model.bin\", \"./\"]\\t\\t\\t\\t\\t\\t\\t\\t\\t\\t\\tGopakumar Gopinathan\\n\\n'"
      ]
     },
     "execution_count": 154,
     "metadata": {},
     "output_type": "execute_result"
    }
   ],
   "source": [
    "context"
   ]
  },
  {
   "cell_type": "code",
   "execution_count": 155,
   "id": "de0f32f1-3402-41a3-ab0d-0336f54a1423",
   "metadata": {},
   "outputs": [],
   "source": [
    "prompt_template = \"\"\"\n",
    "You're a course teaching assistant. Answer the QUESTION based on the CONTEXT from the FAQ database.\n",
    "Use only the facts from the CONTEXT when answering the QUESTION.\n",
    "\n",
    "QUESTION: {question}\n",
    "\n",
    "CONTEXT:\n",
    "{context}\n",
    "\"\"\".strip()"
   ]
  },
  {
   "cell_type": "code",
   "execution_count": 156,
   "id": "6313ff76-8aec-47c2-b2a9-89c3437073f4",
   "metadata": {},
   "outputs": [],
   "source": [
    "prompt = prompt_template.format(question=query, context=context).strip()"
   ]
  },
  {
   "cell_type": "code",
   "execution_count": 157,
   "id": "8214c552-e4f6-4f27-976a-535ad8d3931f",
   "metadata": {},
   "outputs": [
    {
     "data": {
      "text/plain": [
       "1462"
      ]
     },
     "execution_count": 157,
     "metadata": {},
     "output_type": "execute_result"
    }
   ],
   "source": [
    "len(prompt)"
   ]
  },
  {
   "cell_type": "markdown",
   "id": "8d81a736-c63a-4243-8661-6126fe145d01",
   "metadata": {},
   "source": [
    "## Q6. Tokens"
   ]
  },
  {
   "cell_type": "code",
   "execution_count": 162,
   "id": "0b2a8724-64b4-4401-acf2-41d56460eade",
   "metadata": {},
   "outputs": [],
   "source": [
    "import tiktoken\n",
    "\n",
    "encoding = tiktoken.encoding_for_model(\"gpt-4o\")"
   ]
  },
  {
   "cell_type": "code",
   "execution_count": 163,
   "id": "53d66b10-79d1-4db4-a915-d32aebc6e8fc",
   "metadata": {},
   "outputs": [
    {
     "data": {
      "text/plain": [
       "322"
      ]
     },
     "execution_count": 163,
     "metadata": {},
     "output_type": "execute_result"
    }
   ],
   "source": [
    "len(encoding.encode(prompt))"
   ]
  },
  {
   "cell_type": "code",
   "execution_count": null,
   "id": "04706661-4925-4300-be47-207b1f8de7ca",
   "metadata": {},
   "outputs": [],
   "source": []
  }
 ],
 "metadata": {
  "kernelspec": {
   "display_name": "Python 3 (ipykernel)",
   "language": "python",
   "name": "python3"
  },
  "language_info": {
   "codemirror_mode": {
    "name": "ipython",
    "version": 3
   },
   "file_extension": ".py",
   "mimetype": "text/x-python",
   "name": "python",
   "nbconvert_exporter": "python",
   "pygments_lexer": "ipython3",
   "version": "3.10.13"
  }
 },
 "nbformat": 4,
 "nbformat_minor": 5
}
